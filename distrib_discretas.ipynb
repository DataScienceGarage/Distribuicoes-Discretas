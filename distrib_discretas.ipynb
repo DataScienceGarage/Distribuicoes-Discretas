{
 "cells": [
  {
   "cell_type": "code",
   "execution_count": 3,
   "metadata": {
    "collapsed": true
   },
   "outputs": [],
   "source": [
    "import math as math\n",
    "import matplotlib.pyplot as plt\n",
    "import numpy as np\n",
    "import seaborn as sns\n",
    "%matplotlib inline"
   ]
  },
  {
   "cell_type": "markdown",
   "metadata": {},
   "source": [
    "## Distribuição de Bernoulli"
   ]
  },
  {
   "cell_type": "markdown",
   "metadata": {},
   "source": [
    "### Dados X experimentos sucessivos e independentes, com resultados binários e probabilidades constantes para as saídas. Esses experimentos são chamados provas de Bernoulli. "
   ]
  },
  {
   "cell_type": "code",
   "execution_count": 4,
   "metadata": {
    "collapsed": true
   },
   "outputs": [],
   "source": [
    "# Algoritmo"
   ]
  },
  {
   "cell_type": "code",
   "execution_count": 5,
   "metadata": {
    "collapsed": true
   },
   "outputs": [],
   "source": [
    "# Plot"
   ]
  },
  {
   "cell_type": "markdown",
   "metadata": {},
   "source": [
    "##Distribuição Binomial"
   ]
  },
  {
   "cell_type": "markdown",
   "metadata": {},
   "source": [
    "### A distribuição binomial visa calcular a probabilidade de x sucessos em n provas de Bernoulli. Por exemplo, qual a probabilidade de um jogador de basquete acertar 4 cestas em 10 lances livre? Para tal precisa-se estimar a probabilidade p de sucesso ( a chance de falha é 1-p)."
   ]
  },
  {
   "cell_type": "markdown",
   "metadata": {},
   "source": [
    "##### Primeiro definimos uma função para realizar o cálculo de combinação, para depois utiliza-la dentro da função de distribuição binomilal"
   ]
  },
  {
   "cell_type": "code",
   "execution_count": 6,
   "metadata": {
    "collapsed": false
   },
   "outputs": [],
   "source": [
    "# Combinação C(N,x) = N!/x!(N-x)!\n",
    "\n",
    "def combinacao(n,x):\n",
    "    return math.factorial(n)/(math.factorial(x)*math.factorial(n-x))  "
   ]
  },
  {
   "cell_type": "code",
   "execution_count": 7,
   "metadata": {
    "collapsed": false
   },
   "outputs": [],
   "source": [
    "def dist_binomial(n,x,p):\n",
    "    w = p/100\n",
    "    q = 1-w\n",
    "    return combinacao(n,x) * (w**x) * (q**(n-x))"
   ]
  },
  {
   "cell_type": "code",
   "execution_count": 8,
   "metadata": {
    "collapsed": false
   },
   "outputs": [
    {
     "name": "stdout",
     "output_type": "stream",
     "text": [
      "[0.3660323412732292, 0.36972963764972644, 0.18486481882486325]\n",
      "soma =  0.920626797748\n",
      "média =  0.306875599249\n",
      "desvp =  0.086287853162\n"
     ]
    },
    {
     "data": {
      "image/png": "[encoded data removed]",
      "text/plain": [
       "<matplotlib.figure.Figure at 0x8a5a860>"
      ]
     },
     "metadata": {},
     "output_type": "display_data"
    }
   ],
   "source": [
    "g = []\n",
    "\n",
    "for k in range(0,3):    \n",
    "    g.append(dist_binomial(100,k,1))\n",
    "sns.distplot(g, hist = True, kde = True, rug=True)\n",
    "print(g)\n",
    "print('soma = ', np.sum(g))\n",
    "print('média = ', np.mean(g))\n",
    "print('desvp = ', np.std(g))"
   ]
  },
  {
   "cell_type": "markdown",
   "metadata": {
    "collapsed": false
   },
   "source": [
    "## Distribuição Geométrica"
   ]
  },
  {
   "cell_type": "markdown",
   "metadata": {
    "collapsed": true
   },
   "source": [
    "### A distribuição geométrica também se relaciona a uma sequência de provas de Bernoulli, mas o número de provas não é fixo. Nesta distribuição as provas são repetidas até que ocorra o primeiro sucesso.  A probabilidade de x descresce a cada tentativa ou seja p(x) < p(x-1)"
   ]
  },
  {
   "cell_type": "code",
   "execution_count": 9,
   "metadata": {
    "collapsed": false
   },
   "outputs": [],
   "source": [
    "def dist_geometrica(k,p):\n",
    "        w = []\n",
    "        for j in range(1, k):\n",
    "            w.append(p*((1-p)**j))\n",
    "        return w\n",
    "        \n",
    "    "
   ]
  },
  {
   "cell_type": "code",
   "execution_count": 10,
   "metadata": {
    "collapsed": false
   },
   "outputs": [
    {
     "data": {
      "text/plain": [
       "<Container object of 19 artists>"
      ]
     },
     "execution_count": 10,
     "metadata": {},
     "output_type": "execute_result"
    },
    {
     "data": {
      "image/png": "[encoded data removed]",
      "text/plain": [
       "<matplotlib.figure.Figure at 0x918fbe0>"
      ]
     },
     "metadata": {},
     "output_type": "display_data"
    }
   ],
   "source": [
    "y = dist_geometrica(20,.20)\n",
    "n = len(y)\n",
    "x = range(n)\n",
    "width = 1/1.5\n",
    "\n",
    "plt.bar(x,y, width)\n"
   ]
  },
  {
   "cell_type": "code",
   "execution_count": 14,
   "metadata": {
    "collapsed": false
   },
   "outputs": [
    {
     "name": "stdout",
     "output_type": "stream",
     "text": [
      "[-380, 7220, -137180, 2606420, -49521980, 940917620, -17877434780, 339671260820, -6453753955580, 122621325156020, -2329805177964380, 44266298381323220, -841059669245141180, 15980133715657682420, -303622540597495965980, 5768828271352423353620, -109607737155696043718780, 2082547005958224830656820, -39568393113206271782479580]\n",
      "[-870, 25230, -731670, 21218430, -615334470, 17844699630, -517496289270, 15007392388830, -435214379276070, 12621216999006030, -366015292971174870, 10614443496164071230, -307818861388758065670, 8926746980273983904430, -258875662427945533228470, 7507394210410420463625630, -217714432101902193445143270, 6313718530955163609909154830, -183097837397699744687365490070]\n",
      "[-1560, 60840, -2372760, 92537640, -3608967960, 140749750440, -5489240267160, 214080370419240, -8349134446350360, 325616243407664040, -12699033492898897560, 495262306223057004840, -19315229942699223188760, 753293967765269704361640, -29378464742845518470103960, 1145760124970975220334054440, -44684644873868033593028123160, 1742701150080853310128096803240, -67965344853153279094995775326360]\n",
      "[-2450, 120050, -5882450, 288240050, -14123762450, 692064360050, -33911153642450, 1661646528480050, -81420679895522450, 3989613314880600050, -195491052429149402450, 9579061569028320720050, -469374016882387715282450, 22999326827236998048840050, -1126967014534612904393162450, 55221383712196032315264960050, -2705847801897605583447983042450, 132586542292982673588951169080050, -6496740572356151005858607284922450]\n"
     ]
    }
   ],
   "source": [
    "for w in range(20,60,10):\n",
    "    print(dist_geometrica(20,w))\n",
    "    "
   ]
  },
  {
   "cell_type": "markdown",
   "metadata": {},
   "source": [
    "### Distribuição de Pascal"
   ]
  },
  {
   "cell_type": "code",
   "execution_count": null,
   "metadata": {
    "collapsed": true
   },
   "outputs": [],
   "source": []
  },
  {
   "cell_type": "markdown",
   "metadata": {},
   "source": [
    "### Distribuição Multinomial"
   ]
  },
  {
   "cell_type": "code",
   "execution_count": null,
   "metadata": {
    "collapsed": true
   },
   "outputs": [],
   "source": []
  },
  {
   "cell_type": "markdown",
   "metadata": {},
   "source": [
    "### Distribuição Hipergeométrica"
   ]
  },
  {
   "cell_type": "code",
   "execution_count": null,
   "metadata": {
    "collapsed": true
   },
   "outputs": [],
   "source": []
  },
  {
   "cell_type": "markdown",
   "metadata": {},
   "source": [
    "### Distribuição de Poisson"
   ]
  },
  {
   "cell_type": "code",
   "execution_count": null,
   "metadata": {
    "collapsed": true
   },
   "outputs": [],
   "source": []
  }
 ],
 "metadata": {
  "kernelspec": {
   "display_name": "Python 3",
   "language": "python",
   "name": "python3"
  },
  "language_info": {
   "codemirror_mode": {
    "name": "ipython",
    "version": 3
   },
   "file_extension": ".py",
   "mimetype": "text/x-python",
   "name": "python",
   "nbconvert_exporter": "python",
   "pygments_lexer": "ipython3",
   "version": "3.4.1"
  }
 },
 "nbformat": 4,
 "nbformat_minor": 0
}
